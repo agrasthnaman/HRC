{
 "cells": [
  {
   "cell_type": "markdown",
   "id": "e4366397",
   "metadata": {},
   "source": [
    "# Python Practice Questions"
   ]
  },
  {
   "cell_type": "markdown",
   "id": "b0a93e56",
   "metadata": {},
   "source": [
    "### Q.1) Write a python program to check if a number is positive , negative or zero?"
   ]
  },
  {
   "cell_type": "code",
   "execution_count": null,
   "id": "50e34c06",
   "metadata": {},
   "outputs": [],
   "source": []
  },
  {
   "cell_type": "code",
   "execution_count": null,
   "id": "2f555a4d",
   "metadata": {},
   "outputs": [],
   "source": []
  },
  {
   "cell_type": "markdown",
   "id": "0ef0519e",
   "metadata": {},
   "source": [
    "### Q.2) Write a python program to check if a number is even or odd?"
   ]
  },
  {
   "cell_type": "code",
   "execution_count": null,
   "id": "ddc82b05",
   "metadata": {},
   "outputs": [],
   "source": []
  },
  {
   "cell_type": "code",
   "execution_count": null,
   "id": "83098777",
   "metadata": {},
   "outputs": [],
   "source": []
  },
  {
   "cell_type": "markdown",
   "id": "d872adf8",
   "metadata": {},
   "source": [
    "### Q.3) Write a python program to check prime number?"
   ]
  },
  {
   "cell_type": "code",
   "execution_count": null,
   "id": "000667b9",
   "metadata": {},
   "outputs": [],
   "source": []
  },
  {
   "cell_type": "code",
   "execution_count": null,
   "id": "c8fc233e",
   "metadata": {},
   "outputs": [],
   "source": []
  },
  {
   "cell_type": "markdown",
   "id": "f9c31eed",
   "metadata": {},
   "source": [
    "### Q.4) Write a python program to calculate the factorial of a number using function?"
   ]
  },
  {
   "cell_type": "code",
   "execution_count": null,
   "id": "8633ba39",
   "metadata": {},
   "outputs": [],
   "source": []
  },
  {
   "cell_type": "code",
   "execution_count": null,
   "id": "53f2d16e",
   "metadata": {},
   "outputs": [],
   "source": []
  },
  {
   "cell_type": "markdown",
   "id": "181d0e68",
   "metadata": {},
   "source": [
    "### Q.5) Write a python program to find the sum of all even numbers in a list?\n",
    "#### Example:-\n",
    "#### nums = [1,2,3,4,5,6,7,8,9,10]\n",
    "#### sum = 30"
   ]
  },
  {
   "cell_type": "code",
   "execution_count": null,
   "id": "021c08ab",
   "metadata": {},
   "outputs": [],
   "source": []
  },
  {
   "cell_type": "code",
   "execution_count": null,
   "id": "e93a0ffc",
   "metadata": {},
   "outputs": [],
   "source": []
  },
  {
   "cell_type": "markdown",
   "id": "f90a7700",
   "metadata": {},
   "source": [
    "### Q.6) Write a python program to reverse a number?"
   ]
  },
  {
   "cell_type": "code",
   "execution_count": null,
   "id": "2c343332",
   "metadata": {},
   "outputs": [],
   "source": []
  },
  {
   "cell_type": "code",
   "execution_count": null,
   "id": "2745dcf8",
   "metadata": {},
   "outputs": [],
   "source": []
  },
  {
   "cell_type": "markdown",
   "id": "5c3fa743",
   "metadata": {},
   "source": [
    "### Q.7) Write a python program to reverse a string?"
   ]
  },
  {
   "cell_type": "code",
   "execution_count": null,
   "id": "3a7e91d8",
   "metadata": {},
   "outputs": [],
   "source": []
  },
  {
   "cell_type": "code",
   "execution_count": null,
   "id": "f4e8a81d",
   "metadata": {},
   "outputs": [],
   "source": []
  },
  {
   "cell_type": "markdown",
   "id": "0f2d5f96",
   "metadata": {},
   "source": [
    "### Q.8) Write a python program to check whether a string is a palindrome or not?"
   ]
  },
  {
   "cell_type": "code",
   "execution_count": null,
   "id": "986f6b49",
   "metadata": {},
   "outputs": [],
   "source": []
  },
  {
   "cell_type": "code",
   "execution_count": null,
   "id": "54001e16",
   "metadata": {},
   "outputs": [],
   "source": []
  },
  {
   "cell_type": "markdown",
   "id": "9f8ff014",
   "metadata": {},
   "source": [
    "### Q.9) Write a python program to count the number of vowels in a string?"
   ]
  },
  {
   "cell_type": "code",
   "execution_count": null,
   "id": "6309cc50",
   "metadata": {},
   "outputs": [],
   "source": []
  },
  {
   "cell_type": "code",
   "execution_count": null,
   "id": "36ecf00c",
   "metadata": {},
   "outputs": [],
   "source": []
  },
  {
   "cell_type": "markdown",
   "id": "5e065fa0",
   "metadata": {},
   "source": [
    "### Q.10) Write a program to convert a string to uppercase using built-in function?"
   ]
  },
  {
   "cell_type": "code",
   "execution_count": null,
   "id": "8764060f",
   "metadata": {},
   "outputs": [],
   "source": []
  },
  {
   "cell_type": "code",
   "execution_count": null,
   "id": "71523da3",
   "metadata": {},
   "outputs": [],
   "source": []
  },
  {
   "cell_type": "markdown",
   "id": "d29213f1",
   "metadata": {},
   "source": [
    "### Q.11) Write a program to find the length of a list using the built-in function?"
   ]
  },
  {
   "cell_type": "code",
   "execution_count": null,
   "id": "6b9e390a",
   "metadata": {},
   "outputs": [],
   "source": []
  },
  {
   "cell_type": "code",
   "execution_count": null,
   "id": "5128adb2",
   "metadata": {},
   "outputs": [],
   "source": []
  },
  {
   "cell_type": "markdown",
   "id": "12a22553",
   "metadata": {},
   "source": [
    "### Q.12) Write a python program to find the product of all the elements in a list?"
   ]
  },
  {
   "cell_type": "code",
   "execution_count": null,
   "id": "13587e1d",
   "metadata": {},
   "outputs": [],
   "source": []
  },
  {
   "cell_type": "code",
   "execution_count": null,
   "id": "2311078a",
   "metadata": {},
   "outputs": [],
   "source": []
  },
  {
   "cell_type": "markdown",
   "id": "e56eadb3",
   "metadata": {},
   "source": [
    "### Q.13) Write a python program to remove duplicate elements from a list?"
   ]
  },
  {
   "cell_type": "code",
   "execution_count": null,
   "id": "685f96fe",
   "metadata": {},
   "outputs": [],
   "source": []
  },
  {
   "cell_type": "code",
   "execution_count": null,
   "id": "8f2b5e81",
   "metadata": {},
   "outputs": [],
   "source": []
  },
  {
   "cell_type": "markdown",
   "id": "6355b8b8",
   "metadata": {},
   "source": [
    "### Q.14) Write a python program to find the second largest element in a list?"
   ]
  },
  {
   "cell_type": "code",
   "execution_count": null,
   "id": "6ed7f326",
   "metadata": {},
   "outputs": [],
   "source": []
  },
  {
   "cell_type": "code",
   "execution_count": null,
   "id": "2007f41d",
   "metadata": {},
   "outputs": [],
   "source": []
  },
  {
   "cell_type": "markdown",
   "id": "00a2eb01",
   "metadata": {},
   "source": [
    "### Q.15) Write a python program to print all prime numbers in an interval?"
   ]
  },
  {
   "cell_type": "code",
   "execution_count": null,
   "id": "579a0093",
   "metadata": {},
   "outputs": [],
   "source": []
  },
  {
   "cell_type": "code",
   "execution_count": null,
   "id": "e6bdb147",
   "metadata": {},
   "outputs": [],
   "source": []
  },
  {
   "cell_type": "markdown",
   "id": "24ddc06c",
   "metadata": {},
   "source": [
    "### Q.16) Write a python program to check Armstrong Number?"
   ]
  },
  {
   "cell_type": "code",
   "execution_count": null,
   "id": "a7ae5071",
   "metadata": {},
   "outputs": [],
   "source": []
  },
  {
   "cell_type": "code",
   "execution_count": null,
   "id": "fcd93278",
   "metadata": {},
   "outputs": [],
   "source": []
  },
  {
   "cell_type": "markdown",
   "id": "f80b1187",
   "metadata": {},
   "source": [
    "### Q.17) Write a python program to count the number of characters in a string ?"
   ]
  },
  {
   "cell_type": "code",
   "execution_count": null,
   "id": "af76eaac",
   "metadata": {},
   "outputs": [],
   "source": []
  },
  {
   "cell_type": "code",
   "execution_count": null,
   "id": "bf81f728",
   "metadata": {},
   "outputs": [],
   "source": []
  },
  {
   "cell_type": "markdown",
   "id": "57815ce2",
   "metadata": {},
   "source": [
    "### Q.18) Write a python program to check if two strings are anagrams of each other ?\n"
   ]
  },
  {
   "cell_type": "code",
   "execution_count": null,
   "id": "49c66e1f",
   "metadata": {},
   "outputs": [],
   "source": []
  },
  {
   "cell_type": "code",
   "execution_count": null,
   "id": "135c6b01",
   "metadata": {},
   "outputs": [],
   "source": []
  },
  {
   "cell_type": "markdown",
   "id": "ace5ef05",
   "metadata": {},
   "source": [
    "### Q.19) Write a python program to create a dictionary from two lists ?"
   ]
  },
  {
   "cell_type": "code",
   "execution_count": null,
   "id": "4801495d",
   "metadata": {},
   "outputs": [],
   "source": []
  },
  {
   "cell_type": "code",
   "execution_count": null,
   "id": "1c98f781",
   "metadata": {},
   "outputs": [],
   "source": []
  },
  {
   "cell_type": "markdown",
   "id": "20e60c90",
   "metadata": {},
   "source": [
    "### Q.20) Write a python program to find the largest and smallest elements in a list ?"
   ]
  },
  {
   "cell_type": "code",
   "execution_count": null,
   "id": "e72e7056",
   "metadata": {},
   "outputs": [],
   "source": []
  },
  {
   "cell_type": "code",
   "execution_count": null,
   "id": "b869e580",
   "metadata": {},
   "outputs": [],
   "source": []
  },
  {
   "cell_type": "markdown",
   "id": "9776df4f",
   "metadata": {},
   "source": [
    "### Q.21) Write a python program to count the frequency of each character in a string using a dictionary ?"
   ]
  },
  {
   "cell_type": "code",
   "execution_count": null,
   "id": "67b76557",
   "metadata": {},
   "outputs": [],
   "source": []
  },
  {
   "cell_type": "code",
   "execution_count": null,
   "id": "373cd087",
   "metadata": {},
   "outputs": [],
   "source": []
  },
  {
   "cell_type": "markdown",
   "id": "2b4ddfe3",
   "metadata": {},
   "source": [
    "### Q.22) Write a python program to find the union of two sets ?"
   ]
  },
  {
   "cell_type": "code",
   "execution_count": null,
   "id": "1d8ee519",
   "metadata": {},
   "outputs": [],
   "source": []
  },
  {
   "cell_type": "code",
   "execution_count": null,
   "id": "222111bc",
   "metadata": {},
   "outputs": [],
   "source": []
  },
  {
   "cell_type": "markdown",
   "id": "20248074",
   "metadata": {},
   "source": [
    "### Q.23) Write a program to find the GCD of two numbers?"
   ]
  },
  {
   "cell_type": "code",
   "execution_count": null,
   "id": "a638a10c",
   "metadata": {},
   "outputs": [],
   "source": []
  },
  {
   "cell_type": "code",
   "execution_count": null,
   "id": "fdcdf325",
   "metadata": {},
   "outputs": [],
   "source": []
  },
  {
   "cell_type": "markdown",
   "id": "2d09fdc9",
   "metadata": {},
   "source": [
    "### Q.24) Write a python program to generate the Fibonacci sequence up to a certain number?"
   ]
  },
  {
   "cell_type": "code",
   "execution_count": null,
   "id": "e28fed6c",
   "metadata": {},
   "outputs": [],
   "source": []
  },
  {
   "cell_type": "code",
   "execution_count": null,
   "id": "32a3bb86",
   "metadata": {},
   "outputs": [],
   "source": []
  },
  {
   "cell_type": "markdown",
   "id": "7385423a",
   "metadata": {},
   "source": [
    "### Q.25) Write a python program to check if a year is leap year or not?"
   ]
  },
  {
   "cell_type": "code",
   "execution_count": null,
   "id": "9f74d923",
   "metadata": {},
   "outputs": [],
   "source": []
  },
  {
   "cell_type": "code",
   "execution_count": null,
   "id": "965d5c7e",
   "metadata": {},
   "outputs": [],
   "source": []
  },
  {
   "cell_type": "markdown",
   "id": "8c162194",
   "metadata": {},
   "source": [
    "### Q.26) Write a python program to find the sum of two numbers using a lambda function?"
   ]
  },
  {
   "cell_type": "code",
   "execution_count": null,
   "id": "7aff5881",
   "metadata": {},
   "outputs": [],
   "source": []
  },
  {
   "cell_type": "code",
   "execution_count": null,
   "id": "91256158",
   "metadata": {},
   "outputs": [],
   "source": []
  },
  {
   "cell_type": "markdown",
   "id": "321f51d8",
   "metadata": {},
   "source": [
    "### Q.27) Write a python program to convert a list of strings to uppercase using a lambda function?\n"
   ]
  },
  {
   "cell_type": "code",
   "execution_count": null,
   "id": "e9afa0d9",
   "metadata": {},
   "outputs": [],
   "source": []
  },
  {
   "cell_type": "code",
   "execution_count": null,
   "id": "35e1c752",
   "metadata": {},
   "outputs": [],
   "source": []
  },
  {
   "cell_type": "markdown",
   "id": "09357e2f",
   "metadata": {},
   "source": [
    "### Q.28) Write a python program to find the square of each number in a list using a lambda function?\n"
   ]
  },
  {
   "cell_type": "code",
   "execution_count": null,
   "id": "7b9fa9b8",
   "metadata": {},
   "outputs": [],
   "source": []
  },
  {
   "cell_type": "code",
   "execution_count": null,
   "id": "7f42764a",
   "metadata": {},
   "outputs": [],
   "source": []
  },
  {
   "cell_type": "markdown",
   "id": "550239bb",
   "metadata": {},
   "source": [
    "### Q.29)Write a python program to find the sum of two lists using a lambda function?"
   ]
  },
  {
   "cell_type": "code",
   "execution_count": null,
   "id": "857ceb33",
   "metadata": {},
   "outputs": [],
   "source": []
  },
  {
   "cell_type": "code",
   "execution_count": null,
   "id": "d910ff1c",
   "metadata": {},
   "outputs": [],
   "source": []
  },
  {
   "cell_type": "markdown",
   "id": "3f492c63",
   "metadata": {},
   "source": [
    "### Q.30) Write a python program to swap two numbers?"
   ]
  },
  {
   "cell_type": "code",
   "execution_count": null,
   "id": "c919ce53",
   "metadata": {},
   "outputs": [],
   "source": []
  },
  {
   "cell_type": "code",
   "execution_count": null,
   "id": "7ab602ec",
   "metadata": {},
   "outputs": [],
   "source": []
  },
  {
   "cell_type": "markdown",
   "id": "c45603fe",
   "metadata": {},
   "source": [
    "### Q.31) Write a python program to find the area of a triangle?"
   ]
  },
  {
   "cell_type": "code",
   "execution_count": null,
   "id": "faa84ce5",
   "metadata": {},
   "outputs": [],
   "source": []
  },
  {
   "cell_type": "code",
   "execution_count": null,
   "id": "6ba4d7f0",
   "metadata": {},
   "outputs": [],
   "source": []
  },
  {
   "cell_type": "markdown",
   "id": "60ccabc9",
   "metadata": {},
   "source": [
    "### Q.32) Write a python program to calculate the area of a circle?"
   ]
  },
  {
   "cell_type": "code",
   "execution_count": null,
   "id": "9323ee6b",
   "metadata": {},
   "outputs": [],
   "source": []
  },
  {
   "cell_type": "code",
   "execution_count": null,
   "id": "e99fa7c4",
   "metadata": {},
   "outputs": [],
   "source": []
  },
  {
   "cell_type": "markdown",
   "id": "64a44df1",
   "metadata": {},
   "source": [
    "### Q.33) Write a python program to count the number of occurrences of an element in a list?"
   ]
  },
  {
   "cell_type": "code",
   "execution_count": null,
   "id": "766d145f",
   "metadata": {},
   "outputs": [],
   "source": []
  },
  {
   "cell_type": "code",
   "execution_count": null,
   "id": "69dfb58a",
   "metadata": {},
   "outputs": [],
   "source": []
  },
  {
   "cell_type": "markdown",
   "id": "f5ac7841",
   "metadata": {},
   "source": [
    "### Q.34) Write a python program to convert a decimal number to binary?"
   ]
  },
  {
   "cell_type": "code",
   "execution_count": null,
   "id": "09bb78a6",
   "metadata": {},
   "outputs": [],
   "source": []
  },
  {
   "cell_type": "code",
   "execution_count": null,
   "id": "bf6fe186",
   "metadata": {},
   "outputs": [],
   "source": []
  },
  {
   "cell_type": "markdown",
   "id": "18eb0954",
   "metadata": {},
   "source": [
    "### Q.35) Write a python program to find the sum of all the digits in a number?\n"
   ]
  },
  {
   "cell_type": "code",
   "execution_count": null,
   "id": "3574f2df",
   "metadata": {},
   "outputs": [],
   "source": []
  },
  {
   "cell_type": "code",
   "execution_count": null,
   "id": "fc701321",
   "metadata": {},
   "outputs": [],
   "source": []
  },
  {
   "cell_type": "markdown",
   "id": "5b69e28e",
   "metadata": {},
   "source": [
    "### Q.36) Write a python program to find the common elements between two lists?"
   ]
  },
  {
   "cell_type": "code",
   "execution_count": null,
   "id": "574a1e33",
   "metadata": {},
   "outputs": [],
   "source": []
  },
  {
   "cell_type": "code",
   "execution_count": null,
   "id": "44c582dc",
   "metadata": {},
   "outputs": [],
   "source": []
  },
  {
   "cell_type": "markdown",
   "id": "ba42f1ef",
   "metadata": {},
   "source": [
    "### Q.37) Write a python program to remove all the whitespaces from a string?\n"
   ]
  },
  {
   "cell_type": "code",
   "execution_count": null,
   "id": "d87114ca",
   "metadata": {},
   "outputs": [],
   "source": []
  },
  {
   "cell_type": "code",
   "execution_count": null,
   "id": "7985e386",
   "metadata": {},
   "outputs": [],
   "source": []
  },
  {
   "cell_type": "markdown",
   "id": "d8a98c44",
   "metadata": {},
   "source": [
    "### Q.38) Write a python program to make a simple calculator?\n",
    "\n",
    "#### Operations :- + , - , * , / , %\n"
   ]
  },
  {
   "cell_type": "code",
   "execution_count": null,
   "id": "b4eef13b",
   "metadata": {},
   "outputs": [],
   "source": []
  },
  {
   "cell_type": "code",
   "execution_count": null,
   "id": "a6ca79a9",
   "metadata": {},
   "outputs": [],
   "source": []
  },
  {
   "cell_type": "markdown",
   "id": "2ee1dfa4",
   "metadata": {},
   "source": [
    "### Q.39) Write a python program to add two matrix?"
   ]
  },
  {
   "cell_type": "code",
   "execution_count": null,
   "id": "01de7633",
   "metadata": {},
   "outputs": [],
   "source": []
  },
  {
   "cell_type": "code",
   "execution_count": null,
   "id": "6d81e820",
   "metadata": {},
   "outputs": [],
   "source": []
  },
  {
   "cell_type": "markdown",
   "id": "f3fdefc3",
   "metadata": {},
   "source": [
    "### Q.40) Write a python program to merge two dictionaries? "
   ]
  },
  {
   "cell_type": "code",
   "execution_count": null,
   "id": "1b503d91",
   "metadata": {},
   "outputs": [],
   "source": []
  },
  {
   "cell_type": "code",
   "execution_count": null,
   "id": "eea745b5",
   "metadata": {},
   "outputs": [],
   "source": []
  },
  {
   "cell_type": "markdown",
   "id": "8b965746",
   "metadata": {},
   "source": [
    "### Q.41) Write a python program to compute all the permutation of a string?"
   ]
  },
  {
   "cell_type": "code",
   "execution_count": null,
   "id": "74240510",
   "metadata": {},
   "outputs": [],
   "source": []
  },
  {
   "cell_type": "code",
   "execution_count": null,
   "id": "692c78c5",
   "metadata": {},
   "outputs": [],
   "source": []
  },
  {
   "cell_type": "markdown",
   "id": "dd66e5cd",
   "metadata": {},
   "source": [
    "### Q.42) Write a python program to convert Kilometres to Miles using function?"
   ]
  },
  {
   "cell_type": "code",
   "execution_count": null,
   "id": "b635dccb",
   "metadata": {},
   "outputs": [],
   "source": []
  },
  {
   "cell_type": "code",
   "execution_count": null,
   "id": "acdeab56",
   "metadata": {},
   "outputs": [],
   "source": []
  },
  {
   "cell_type": "markdown",
   "id": "6bb9a877",
   "metadata": {},
   "source": [
    "### Q.43) Write a python program to to convert Celsius To Fahrenheit using function?"
   ]
  },
  {
   "cell_type": "code",
   "execution_count": null,
   "id": "4012b772",
   "metadata": {},
   "outputs": [],
   "source": []
  },
  {
   "cell_type": "code",
   "execution_count": null,
   "id": "573ade1f",
   "metadata": {},
   "outputs": [],
   "source": []
  },
  {
   "cell_type": "markdown",
   "id": "23481bcb",
   "metadata": {},
   "source": [
    "### Q.45) Write a python program to find the sum of all odd numbers in a list?"
   ]
  },
  {
   "cell_type": "code",
   "execution_count": null,
   "id": "ecd46d7c",
   "metadata": {},
   "outputs": [],
   "source": []
  },
  {
   "cell_type": "code",
   "execution_count": null,
   "id": "84780b78",
   "metadata": {},
   "outputs": [],
   "source": []
  },
  {
   "cell_type": "markdown",
   "id": "8b7030ec",
   "metadata": {},
   "source": [
    "### Q.46) Write a python program to check if a number is palindrome or not?"
   ]
  },
  {
   "cell_type": "code",
   "execution_count": null,
   "id": "131ce1eb",
   "metadata": {},
   "outputs": [],
   "source": []
  },
  {
   "cell_type": "code",
   "execution_count": null,
   "id": "512f5458",
   "metadata": {},
   "outputs": [],
   "source": []
  },
  {
   "cell_type": "markdown",
   "id": "ecf804f8",
   "metadata": {},
   "source": [
    "### Q.47) Write a python program to find the minimum element in a list using built-in function?"
   ]
  },
  {
   "cell_type": "code",
   "execution_count": null,
   "id": "aa1d46b4",
   "metadata": {},
   "outputs": [],
   "source": []
  },
  {
   "cell_type": "code",
   "execution_count": null,
   "id": "a392e70f",
   "metadata": {},
   "outputs": [],
   "source": []
  },
  {
   "cell_type": "markdown",
   "id": "e0ca7780",
   "metadata": {},
   "source": [
    "### Q.47) Write a python program to convert a string to lowercase using built-in function?"
   ]
  },
  {
   "cell_type": "code",
   "execution_count": null,
   "id": "cf809389",
   "metadata": {},
   "outputs": [],
   "source": []
  },
  {
   "cell_type": "code",
   "execution_count": null,
   "id": "27123186",
   "metadata": {},
   "outputs": [],
   "source": []
  },
  {
   "cell_type": "markdown",
   "id": "0d0437a1",
   "metadata": {},
   "source": [
    "### Q.48) Write a python program to sort a list of numbers in ascending order?"
   ]
  },
  {
   "cell_type": "code",
   "execution_count": null,
   "id": "9e381fde",
   "metadata": {},
   "outputs": [],
   "source": []
  },
  {
   "cell_type": "code",
   "execution_count": null,
   "id": "a2e3e1ca",
   "metadata": {},
   "outputs": [],
   "source": []
  },
  {
   "cell_type": "markdown",
   "id": "0ffd872e",
   "metadata": {},
   "source": [
    "### Q.49) Write a python program to display the multiplication Table?"
   ]
  },
  {
   "cell_type": "code",
   "execution_count": null,
   "id": "dc87b507",
   "metadata": {},
   "outputs": [],
   "source": []
  },
  {
   "cell_type": "code",
   "execution_count": null,
   "id": "a6b25903",
   "metadata": {},
   "outputs": [],
   "source": []
  },
  {
   "cell_type": "markdown",
   "id": "269ef7f4",
   "metadata": {},
   "source": [
    "### Q.50) Write a python program to Find the factors of a number?"
   ]
  },
  {
   "cell_type": "code",
   "execution_count": null,
   "id": "568cbe94",
   "metadata": {},
   "outputs": [],
   "source": []
  },
  {
   "cell_type": "code",
   "execution_count": null,
   "id": "fd82d280",
   "metadata": {},
   "outputs": [],
   "source": []
  }
 ],
 "metadata": {
  "kernelspec": {
   "display_name": "Python 3 (ipykernel)",
   "language": "python",
   "name": "python3"
  },
  "language_info": {
   "codemirror_mode": {
    "name": "ipython",
    "version": 3
   },
   "file_extension": ".py",
   "mimetype": "text/x-python",
   "name": "python",
   "nbconvert_exporter": "python",
   "pygments_lexer": "ipython3",
   "version": "3.10.9"
  }
 },
 "nbformat": 4,
 "nbformat_minor": 5
}
