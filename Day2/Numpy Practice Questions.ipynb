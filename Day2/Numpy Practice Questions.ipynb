{
 "cells": [
  {
   "cell_type": "markdown",
   "id": "9c36bf01",
   "metadata": {},
   "source": [
    "# Numpy Questions"
   ]
  },
  {
   "cell_type": "markdown",
   "id": "c56cafa3",
   "metadata": {},
   "source": [
    "### Q.1) Create a numpy array in python?"
   ]
  },
  {
   "cell_type": "code",
   "execution_count": 2,
   "id": "2f2036a0",
   "metadata": {},
   "outputs": [],
   "source": [
    "import numpy as np"
   ]
  },
  {
   "cell_type": "code",
   "execution_count": 5,
   "id": "35d3e8ff",
   "metadata": {},
   "outputs": [
    {
     "data": {
      "text/plain": [
       "array([1., 2., 3.])"
      ]
     },
     "execution_count": 5,
     "metadata": {},
     "output_type": "execute_result"
    }
   ],
   "source": [
    "l1 = [1,2,3]\n",
    "arr = np.array(l1, dtype = float)\n",
    "arr"
   ]
  },
  {
   "cell_type": "markdown",
   "id": "4403ddeb",
   "metadata": {},
   "source": [
    "### Q.2) Write a program that takes in a NumPy array and returns its mean?"
   ]
  },
  {
   "cell_type": "code",
   "execution_count": 8,
   "id": "5be951fa",
   "metadata": {},
   "outputs": [
    {
     "data": {
      "text/plain": [
       "2.0"
      ]
     },
     "execution_count": 8,
     "metadata": {},
     "output_type": "execute_result"
    }
   ],
   "source": [
    "mean = np.mean(arr)\n",
    "mean"
   ]
  },
  {
   "cell_type": "code",
   "execution_count": null,
   "id": "6f6cea53",
   "metadata": {},
   "outputs": [],
   "source": []
  },
  {
   "cell_type": "markdown",
   "id": "0da11a35",
   "metadata": {},
   "source": [
    "### Q.3) Write a program that takes in a NumPy array and returns its shape?"
   ]
  },
  {
   "cell_type": "code",
   "execution_count": 13,
   "id": "b96b9827",
   "metadata": {},
   "outputs": [
    {
     "data": {
      "text/plain": [
       "(3, 2)"
      ]
     },
     "execution_count": 13,
     "metadata": {},
     "output_type": "execute_result"
    }
   ],
   "source": [
    "l2 = [[1,2], [2,3], [3,4]]\n",
    "arr2 = np.array(l2)\n",
    "shape = np.shape(arr)\n",
    "shape2 = np.shape(arr2)\n",
    "shape2"
   ]
  },
  {
   "cell_type": "code",
   "execution_count": null,
   "id": "68577d5e",
   "metadata": {},
   "outputs": [],
   "source": []
  },
  {
   "cell_type": "markdown",
   "id": "0450351a",
   "metadata": {},
   "source": [
    "### Q.4) How can we convert a list into numpy array?"
   ]
  },
  {
   "cell_type": "code",
   "execution_count": null,
   "id": "65b6f0ea",
   "metadata": {},
   "outputs": [],
   "source": []
  },
  {
   "cell_type": "code",
   "execution_count": null,
   "id": "b5d4db96",
   "metadata": {},
   "outputs": [],
   "source": []
  },
  {
   "cell_type": "markdown",
   "id": "1ff0b146",
   "metadata": {},
   "source": [
    "### Q.5) Creates a NumPy array filled with zeros of 3X3 size?"
   ]
  },
  {
   "cell_type": "code",
   "execution_count": 16,
   "id": "6b9f3f3a",
   "metadata": {},
   "outputs": [
    {
     "data": {
      "text/plain": [
       "array([[0, 0, 0],\n",
       "       [0, 0, 0],\n",
       "       [0, 0, 0]])"
      ]
     },
     "execution_count": 16,
     "metadata": {},
     "output_type": "execute_result"
    }
   ],
   "source": [
    "zeroMatrix = np.zeros((3,3), dtype = int)\n",
    "zeroMatrix"
   ]
  },
  {
   "cell_type": "code",
   "execution_count": null,
   "id": "38a3a93a",
   "metadata": {},
   "outputs": [],
   "source": []
  },
  {
   "cell_type": "markdown",
   "id": "d4d7bb84",
   "metadata": {},
   "source": [
    "### Q.6)  Creates a NumPy array filled with ones of mXn size?"
   ]
  },
  {
   "cell_type": "code",
   "execution_count": 18,
   "id": "03bb09ca",
   "metadata": {},
   "outputs": [
    {
     "name": "stdout",
     "output_type": "stream",
     "text": [
      "3\n",
      "4\n"
     ]
    },
    {
     "data": {
      "text/plain": [
       "array([[1, 1, 1],\n",
       "       [1, 1, 1],\n",
       "       [1, 1, 1],\n",
       "       [1, 1, 1]])"
      ]
     },
     "execution_count": 18,
     "metadata": {},
     "output_type": "execute_result"
    }
   ],
   "source": [
    "n = int(input())\n",
    "m = int(input())\n",
    "\n",
    "zeroMatrix = np.ones((m,n), dtype = int)\n",
    "zeroMatrix"
   ]
  },
  {
   "cell_type": "code",
   "execution_count": null,
   "id": "f736d7fd",
   "metadata": {},
   "outputs": [],
   "source": []
  },
  {
   "cell_type": "markdown",
   "id": "b9e9f70f",
   "metadata": {},
   "source": [
    "### Q.7) Creates a NumPy array filled with random values between 0 and 1."
   ]
  },
  {
   "cell_type": "code",
   "execution_count": 21,
   "id": "d15fce79",
   "metadata": {},
   "outputs": [
    {
     "ename": "ValueError",
     "evalue": "low >= high",
     "output_type": "error",
     "traceback": [
      "\u001b[1;31m---------------------------------------------------------------------------\u001b[0m",
      "\u001b[1;31mValueError\u001b[0m                                Traceback (most recent call last)",
      "Cell \u001b[1;32mIn[21], line 1\u001b[0m\n\u001b[1;32m----> 1\u001b[0m random_array \u001b[38;5;241m=\u001b[39m \u001b[43mnp\u001b[49m\u001b[38;5;241;43m.\u001b[39;49m\u001b[43mrandom\u001b[49m\u001b[38;5;241;43m.\u001b[39;49m\u001b[43mrandint\u001b[49m\u001b[43m(\u001b[49m\u001b[38;5;241;43m3\u001b[39;49m\u001b[43m,\u001b[49m\u001b[43m \u001b[49m\u001b[38;5;241;43m3\u001b[39;49m\u001b[43m)\u001b[49m\n\u001b[0;32m      2\u001b[0m random_array\n",
      "File \u001b[1;32mmtrand.pyx:746\u001b[0m, in \u001b[0;36mnumpy.random.mtrand.RandomState.randint\u001b[1;34m()\u001b[0m\n",
      "File \u001b[1;32m_bounded_integers.pyx:1338\u001b[0m, in \u001b[0;36mnumpy.random._bounded_integers._rand_int32\u001b[1;34m()\u001b[0m\n",
      "\u001b[1;31mValueError\u001b[0m: low >= high"
     ]
    }
   ],
   "source": [
    "random_array = np.random.rand(3, 3)\n",
    "random_array"
   ]
  },
  {
   "cell_type": "code",
   "execution_count": null,
   "id": "5700d205",
   "metadata": {},
   "outputs": [],
   "source": []
  },
  {
   "cell_type": "markdown",
   "id": "7e122e30",
   "metadata": {},
   "source": [
    "### Q.8)  Creates a NumPy array with a range of values?"
   ]
  },
  {
   "cell_type": "code",
   "execution_count": null,
   "id": "edd4151d",
   "metadata": {},
   "outputs": [],
   "source": []
  },
  {
   "cell_type": "code",
   "execution_count": null,
   "id": "a8c192f1",
   "metadata": {},
   "outputs": [],
   "source": []
  },
  {
   "cell_type": "markdown",
   "id": "2e395c09",
   "metadata": {},
   "source": [
    "### Q.9) How to reshape a NumPy array to a new shape?"
   ]
  },
  {
   "cell_type": "code",
   "execution_count": null,
   "id": "75d95229",
   "metadata": {},
   "outputs": [],
   "source": []
  },
  {
   "cell_type": "code",
   "execution_count": null,
   "id": "e2be88cb",
   "metadata": {},
   "outputs": [],
   "source": []
  },
  {
   "cell_type": "markdown",
   "id": "1ca98a10",
   "metadata": {},
   "source": [
    "### Q.10) Computes the sum of all the elements in a NumPy array?"
   ]
  },
  {
   "cell_type": "code",
   "execution_count": null,
   "id": "782d81a1",
   "metadata": {},
   "outputs": [],
   "source": []
  },
  {
   "cell_type": "code",
   "execution_count": null,
   "id": "012134fb",
   "metadata": {},
   "outputs": [],
   "source": []
  },
  {
   "cell_type": "markdown",
   "id": "bae33d69",
   "metadata": {},
   "source": [
    "### Q.11) Computes the standard deviation of all the elements in a NumPy array."
   ]
  },
  {
   "cell_type": "code",
   "execution_count": null,
   "id": "30ae2558",
   "metadata": {},
   "outputs": [],
   "source": []
  },
  {
   "cell_type": "code",
   "execution_count": null,
   "id": "89761737",
   "metadata": {},
   "outputs": [],
   "source": []
  },
  {
   "cell_type": "markdown",
   "id": "0a80859a",
   "metadata": {},
   "source": [
    "### Q.12) Computes the dot product of two NumPy arrays.\n"
   ]
  },
  {
   "cell_type": "code",
   "execution_count": null,
   "id": "a22a5f55",
   "metadata": {},
   "outputs": [],
   "source": []
  },
  {
   "cell_type": "code",
   "execution_count": null,
   "id": "509d7cfd",
   "metadata": {},
   "outputs": [],
   "source": []
  },
  {
   "cell_type": "markdown",
   "id": "8fe9163f",
   "metadata": {},
   "source": [
    "### Q.13) Create a 2D NumPy array with shape (3, 3) containing all zeros?"
   ]
  },
  {
   "cell_type": "code",
   "execution_count": null,
   "id": "da7b5d1d",
   "metadata": {},
   "outputs": [],
   "source": []
  },
  {
   "cell_type": "code",
   "execution_count": null,
   "id": "24d09d60",
   "metadata": {},
   "outputs": [],
   "source": []
  },
  {
   "cell_type": "markdown",
   "id": "7c657691",
   "metadata": {},
   "source": [
    "### Q.14) Create a 1D numpy array containing the values from -10 to 10, with a step of 2.\n"
   ]
  },
  {
   "cell_type": "code",
   "execution_count": null,
   "id": "f74f074a",
   "metadata": {},
   "outputs": [],
   "source": []
  },
  {
   "cell_type": "code",
   "execution_count": null,
   "id": "b4f408eb",
   "metadata": {},
   "outputs": [],
   "source": []
  },
  {
   "cell_type": "markdown",
   "id": "c9d94d18",
   "metadata": {},
   "source": [
    "### Q.15) Create a 2D numpy array with shape (3, 3) containing random values between 0 and 1. Then, set all values in the first row to 0."
   ]
  },
  {
   "cell_type": "code",
   "execution_count": null,
   "id": "c1078133",
   "metadata": {},
   "outputs": [],
   "source": []
  },
  {
   "cell_type": "code",
   "execution_count": null,
   "id": "4fbd4d0f",
   "metadata": {},
   "outputs": [],
   "source": []
  },
  {
   "cell_type": "markdown",
   "id": "07124584",
   "metadata": {},
   "source": [
    "### Q.16) Create a 1D numpy array containing the values from 0 to 9. Then, create a new array containing the values squared."
   ]
  },
  {
   "cell_type": "code",
   "execution_count": null,
   "id": "cc0c1285",
   "metadata": {},
   "outputs": [],
   "source": []
  },
  {
   "cell_type": "code",
   "execution_count": null,
   "id": "db43d86e",
   "metadata": {},
   "outputs": [],
   "source": []
  },
  {
   "cell_type": "markdown",
   "id": "fad556fd",
   "metadata": {},
   "source": [
    "### Q.17) Create a 1D numpy array containing the values from 1 to 10. Then, extract all even values from the array."
   ]
  },
  {
   "cell_type": "code",
   "execution_count": null,
   "id": "198a0c40",
   "metadata": {},
   "outputs": [],
   "source": []
  },
  {
   "cell_type": "code",
   "execution_count": null,
   "id": "cb55d902",
   "metadata": {},
   "outputs": [],
   "source": []
  },
  {
   "cell_type": "markdown",
   "id": "dd475e4e",
   "metadata": {},
   "source": [
    "### Q.18) Create a 1D numpy array containing the values from 1 to 10. Then, extract all odd values from the array."
   ]
  },
  {
   "cell_type": "code",
   "execution_count": null,
   "id": "4efd31ab",
   "metadata": {},
   "outputs": [],
   "source": []
  },
  {
   "cell_type": "code",
   "execution_count": null,
   "id": "b98cfa5f",
   "metadata": {},
   "outputs": [],
   "source": []
  },
  {
   "cell_type": "markdown",
   "id": "9abb6630",
   "metadata": {},
   "source": [
    "### Q.19)Create a 2D numpy array with shape (3, 3) containing random values between 0 and 1. Then, compute the mean of each row."
   ]
  },
  {
   "cell_type": "code",
   "execution_count": 32,
   "id": "d25cc833",
   "metadata": {},
   "outputs": [
    {
     "name": "stdout",
     "output_type": "stream",
     "text": [
      "0.1779656359713009\n",
      "0.23678938658334817\n",
      "0.48256536253178545\n"
     ]
    }
   ],
   "source": [
    "# np.random.randint(0,1, (3, 3))\n",
    "random_array = np.random.rand(3,3)\n",
    "random_array\n",
    "for i in random_array:\n",
    "    print(np.mean(i))"
   ]
  },
  {
   "cell_type": "code",
   "execution_count": null,
   "id": "28ac8270",
   "metadata": {},
   "outputs": [],
   "source": []
  },
  {
   "cell_type": "markdown",
   "id": "f7c42cee",
   "metadata": {},
   "source": [
    "### Q.20) How to split numpy array into 3 parts?\n",
    "#### arr = np.array([1, 2, 3, 4, 5, 6])"
   ]
  },
  {
   "cell_type": "code",
   "execution_count": 35,
   "id": "8aa2b236",
   "metadata": {},
   "outputs": [
    {
     "data": {
      "text/plain": [
       "[array([1, 2]), array([3, 4]), array([5, 6])]"
      ]
     },
     "execution_count": 35,
     "metadata": {},
     "output_type": "execute_result"
    }
   ],
   "source": [
    "arr = np.array([1, 2, 3, 4, 5, 6])\n",
    "split_array = np.array_split(arr, 3)\n",
    "split_array"
   ]
  },
  {
   "cell_type": "code",
   "execution_count": null,
   "id": "1a8ce23b",
   "metadata": {},
   "outputs": [],
   "source": []
  }
 ],
 "metadata": {
  "kernelspec": {
   "display_name": "Python 3 (ipykernel)",
   "language": "python",
   "name": "python3"
  },
  "language_info": {
   "codemirror_mode": {
    "name": "ipython",
    "version": 3
   },
   "file_extension": ".py",
   "mimetype": "text/x-python",
   "name": "python",
   "nbconvert_exporter": "python",
   "pygments_lexer": "ipython3",
   "version": "3.10.9"
  }
 },
 "nbformat": 4,
 "nbformat_minor": 5
}
